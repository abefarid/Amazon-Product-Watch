{
 "cells": [
  {
   "cell_type": "code",
   "execution_count": null,
   "metadata": {},
   "outputs": [],
   "source": [
    "# importing the libraries\n",
    "\n",
    "from bs4 import BeautifulSoup\n",
    "import pandas as pd\n",
    "import requests\n",
    "import smtplib\n",
    "import time\n",
    "import datetime"
   ]
  },
  {
   "cell_type": "code",
   "execution_count": null,
   "metadata": {},
   "outputs": [],
   "source": [
    "# connecting to website\n",
    "\n",
    "URL = 'https://www.amazon.ca/Focusrite-SCARLETT-SOLO-3RD-GEN-USB-Audio-Interface/dp/B07QR6Z1JB/ref=pd_ci_mcx_mh_mcx_views_0?pd_rd_w=V51kJ&content-id=amzn1.sym.b70d88fb-b9b8-4610-890e-2815f2b902c2%3Aamzn1.symc.40e6a10e-cbc4-4fa5-81e3-4435ff64d03b&pf_rd_p=b70d88fb-b9b8-4610-890e-2815f2b902c2&pf_rd_r=V4PAJ827FXEBKEB409GK&pd_rd_wg=Wb2zh&pd_rd_r=30790a2c-2b68-4332-ad8d-4a39abb32454&pd_rd_i=B07QR6Z1JB&th=1'\n",
    "\n",
    "custom_headers = { \"User-Agent\": \"Mozilla/5.0 (Windows NT 10.0; Win64; x64) AppleWebKit/537.36 (KHTML, like Gecko) Chrome/125.0.0.0 Safari/537.36\", 'accept-language':'en-CA,en;q=0.9'\n",
    "}              \n",
    "\n",
    "page = requests.get(URL, headers=custom_headers)\n",
    "\n",
    "soup1 = BeautifulSoup(page.content, 'html.parser')\n",
    "\n",
    "soup2 = BeautifulSoup(soup1.prettify(), 'html.parser')\n",
    "\n",
    "# making sure parsed content contains everything I need\n",
    "\n",
    "#print(soup2)\n",
    "\n"
   ]
  },
  {
   "cell_type": "code",
   "execution_count": null,
   "metadata": {},
   "outputs": [],
   "source": [
    "# finding and printing the title, price, rating, description, and image URL\n",
    "\n",
    "title = soup2.find(id='productTitle').get_text(strip=True)\n",
    "\n",
    "price = soup2.select_one('span.aok-offscreen').get_text(strip=True)[1:]\n",
    "\n",
    "rating = soup2.find(id='averageCustomerReviews').get_text(strip=True)[:3]\n",
    "\n",
    "description = soup2.find(id='featurebullets_feature_div').get_text(strip=True)[15:]\n",
    "\n",
    "image_URL = soup2.select_one('#landingImage').attrs.get('src')\n",
    "\n",
    "print(title)\n",
    "print(price)\n",
    "print(rating)\n",
    "print(description)\n",
    "print(image_URL)\n",
    "\n",
    "#getting todays date\n",
    "\n",
    "date_today = datetime.date.today()\n",
    "\n",
    "print(date_today)"
   ]
  },
  {
   "cell_type": "code",
   "execution_count": null,
   "metadata": {},
   "outputs": [],
   "source": [
    "# making a csv with the data collected\n",
    "\n",
    "import csv\n",
    "\n",
    "header = ['Date', 'Product Title', 'Price', 'Rating', 'Product Description', 'Image URL']\n",
    "\n",
    "data = [date_today, title, price, rating, description, image_URL]\n",
    "\n",
    "\n",
    "with open('AmazonScraperData.csv', 'w', newline='', encoding='UTF8') as checker:\n",
    "    writer = csv.writer(checker)\n",
    "    writer.writerow(header)\n",
    "    writer.writerow(data)"
   ]
  },
  {
   "cell_type": "code",
   "execution_count": null,
   "metadata": {},
   "outputs": [],
   "source": [
    "# appending our data in the csv\n",
    "\n",
    "with open('AmazonScraperData.csv', 'a+', newline='', encoding='UTF8') as checker:\n",
    "    writer = csv.writer(checker)\n",
    "    writer.writerow(data)"
   ]
  },
  {
   "cell_type": "code",
   "execution_count": null,
   "metadata": {},
   "outputs": [],
   "source": [
    "# creating a price checker that will track the price of the Scarlett Solo\n",
    "\n",
    "def price_checker():\n",
    "    URL = 'https://www.amazon.ca/Focusrite-SCARLETT-SOLO-3RD-GEN-USB-Audio-Interface/dp/B07QR6Z1JB/ref=pd_ci_mcx_mh_mcx_views_0?pd_rd_w=V51kJ&content-id=amzn1.sym.b70d88fb-b9b8-4610-890e-2815f2b902c2%3Aamzn1.symc.40e6a10e-cbc4-4fa5-81e3-4435ff64d03b&pf_rd_p=b70d88fb-b9b8-4610-890e-2815f2b902c2&pf_rd_r=V4PAJ827FXEBKEB409GK&pd_rd_wg=Wb2zh&pd_rd_r=30790a2c-2b68-4332-ad8d-4a39abb32454&pd_rd_i=B07QR6Z1JB&th=1'\n",
    "\n",
    "    custom_headers = { \"User-Agent\": \"Mozilla/5.0 (Windows NT 10.0; Win64; x64) AppleWebKit/537.36 (KHTML, like Gecko) Chrome/125.0.0.0 Safari/537.36\", 'accept-language':'en-CA,en;q=0.9'\n",
    "    }              \n",
    "\n",
    "    page = requests.get(URL, headers=custom_headers)\n",
    "    soup1 = BeautifulSoup(page.content, 'html.parser')\n",
    "    soup2 = BeautifulSoup(soup1.prettify(), 'html.parser')\n",
    "\n",
    "    title = soup2.find(id='productTitle').get_text(strip=True)\n",
    "    price = soup2.select_one('span.aok-offscreen').get_text(strip=True)[1:]\n",
    "    rating = soup2.find(id='averageCustomerReviews').get_text(strip=True)[:3]\n",
    "    description = soup2.find(id='featurebullets_feature_div').get_text(strip=True)[15:]\n",
    "    image_URL = soup2.select_one('#landingImage').attrs.get('src')\n",
    "    date_today = datetime.date.today()\n",
    "\n",
    "    import csv\n",
    "\n",
    "    header = ['Date', 'Product Title', 'Price', 'Rating', 'Product Description', 'Image URL']\n",
    "    data = [date_today, title, price, rating, description, image_URL]\n",
    "\n",
    "    with open('AmazonScraperData.csv', 'a+', newline='', encoding='UTF8') as checker:\n",
    "        writer = csv.writer(checker)\n",
    "        writer.writerow(data)\n"
   ]
  },
  {
   "cell_type": "code",
   "execution_count": null,
   "metadata": {},
   "outputs": [],
   "source": [
    "# automating the process to check the price every 24 hours\n",
    "\n",
    "while(True):\n",
    "    price_checker()\n",
    "    time.sleep(86400)"
   ]
  }
 ],
 "metadata": {
  "kernelspec": {
   "display_name": "Python 3",
   "language": "python",
   "name": "python3"
  },
  "language_info": {
   "codemirror_mode": {
    "name": "ipython",
    "version": 3
   },
   "file_extension": ".py",
   "mimetype": "text/x-python",
   "name": "python",
   "nbconvert_exporter": "python",
   "pygments_lexer": "ipython3",
   "version": "3.12.3"
  }
 },
 "nbformat": 4,
 "nbformat_minor": 2
}
